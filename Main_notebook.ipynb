{
 "metadata": {
  "language_info": {
   "codemirror_mode": {
    "name": "ipython",
    "version": 3
   },
   "file_extension": ".py",
   "mimetype": "text/x-python",
   "name": "python",
   "nbconvert_exporter": "python",
   "pygments_lexer": "ipython3",
   "version": "3.9.2"
  },
  "orig_nbformat": 2,
  "kernelspec": {
   "name": "python392jvsc74a57bd0e91ebae02e3e4f54139b4fc7350e8a97ae7e0ade0cb10abd002a3225e86ad20f",
   "display_name": "Python 3.9.2 64-bit"
  },
  "metadata": {
   "interpreter": {
    "hash": "e91ebae02e3e4f54139b4fc7350e8a97ae7e0ade0cb10abd002a3225e86ad20f"
   }
  }
 },
 "nbformat": 4,
 "nbformat_minor": 2,
 "cells": [
  {
   "source": [
    "# Bias Finder"
   ],
   "cell_type": "markdown",
   "metadata": {}
  },
  {
   "source": [
    "This notebook analyses bias"
   ],
   "cell_type": "markdown",
   "metadata": {}
  },
  {
   "cell_type": "code",
   "execution_count": 32,
   "metadata": {},
   "outputs": [],
   "source": [
    "import pandas as pd\n",
    "# !pip install brewer2mpl\n",
    "import numpy as np\n",
    "import pandas as pd\n",
    "import matplotlib as mpl\n",
    "import matplotlib.pyplot as plt\n",
    "%matplotlib inline\n",
    "import seaborn as sns\n",
    "from Utils import *\n",
    "# import warnings; warnings.filterwarnings(action='once')"
   ]
  },
  {
   "cell_type": "code",
   "execution_count": 2,
   "metadata": {},
   "outputs": [],
   "source": [
    "Disease_df = pd.read_csv(\"NY_DB_stat.csv\")\n",
    "\n",
    "Disease_df.head(20)\n",
    "Top_prevalent_diseases= Disease_df.head(20)"
   ]
  },
  {
   "source": [
    "We just printed 20 most prevalent diseases. \n",
    "Let's make a histogram."
   ],
   "cell_type": "markdown",
   "metadata": {}
  },
  {
   "cell_type": "code",
   "execution_count": null,
   "metadata": {},
   "outputs": [],
   "source": [
    "ax = Top_prevalent_diseases.plot.bar(x=\"Disease\", y=\"Trues\", rot=90)"
   ]
  },
  {
   "source": [
    "Now that we saw that the 2 most prevalent categories are healthy subjects, let's take sick people with categories 3-20 and inspect them"
   ],
   "cell_type": "markdown",
   "metadata": {}
  },
  {
   "cell_type": "code",
   "execution_count": 3,
   "metadata": {},
   "outputs": [
    {
     "output_type": "execute_result",
     "data": {
      "text/plain": [
       "                                              Disease  Trues  Falses\n",
       "2                                   Sinus tachycardia  10190   69046\n",
       "3                             Left atrial enlargement  10099   69137\n",
       "4         ST changes - Nonspecific T-wave abnormality   8348   70888\n",
       "5                        Left ventricular hypertrophy   8069   71167\n",
       "6                                   Sinus bradycardia   7213   72023\n",
       "7                                    Sinus arrhythmia   5292   73944\n",
       "8                                STEMI - Anteroseptal   4900   74336\n",
       "9                                 Left-axis deviation   4562   74674\n",
       "10                                   STEMI - Anterior   4535   74701\n",
       "11              ST changes - Nonspecific ST deviation   4511   74725\n",
       "12  ST changes - Nonspecific ST deviation with T-w...   4495   74741\n",
       "13            Bundle-branch block - RBBB - incomplete   3806   75430\n",
       "14                  STEMI - Inferior or Inferolateral   3415   75821\n",
       "15                                     Normal variant   3118   76118\n",
       "16                                Atrial fibrillation   3055   76181\n",
       "17      Ventricular premature complex(es) - VPB - VPC   3001   76235\n",
       "18                            QT Interval - Prolonged   2865   76371\n",
       "19                 Bundle Branch Block - Right - RBBB   2689   76547"
      ],
      "text/html": "<div>\n<style scoped>\n    .dataframe tbody tr th:only-of-type {\n        vertical-align: middle;\n    }\n\n    .dataframe tbody tr th {\n        vertical-align: top;\n    }\n\n    .dataframe thead th {\n        text-align: right;\n    }\n</style>\n<table border=\"1\" class=\"dataframe\">\n  <thead>\n    <tr style=\"text-align: right;\">\n      <th></th>\n      <th>Disease</th>\n      <th>Trues</th>\n      <th>Falses</th>\n    </tr>\n  </thead>\n  <tbody>\n    <tr>\n      <th>2</th>\n      <td>Sinus tachycardia</td>\n      <td>10190</td>\n      <td>69046</td>\n    </tr>\n    <tr>\n      <th>3</th>\n      <td>Left atrial enlargement</td>\n      <td>10099</td>\n      <td>69137</td>\n    </tr>\n    <tr>\n      <th>4</th>\n      <td>ST changes - Nonspecific T-wave abnormality</td>\n      <td>8348</td>\n      <td>70888</td>\n    </tr>\n    <tr>\n      <th>5</th>\n      <td>Left ventricular hypertrophy</td>\n      <td>8069</td>\n      <td>71167</td>\n    </tr>\n    <tr>\n      <th>6</th>\n      <td>Sinus bradycardia</td>\n      <td>7213</td>\n      <td>72023</td>\n    </tr>\n    <tr>\n      <th>7</th>\n      <td>Sinus arrhythmia</td>\n      <td>5292</td>\n      <td>73944</td>\n    </tr>\n    <tr>\n      <th>8</th>\n      <td>STEMI - Anteroseptal</td>\n      <td>4900</td>\n      <td>74336</td>\n    </tr>\n    <tr>\n      <th>9</th>\n      <td>Left-axis deviation</td>\n      <td>4562</td>\n      <td>74674</td>\n    </tr>\n    <tr>\n      <th>10</th>\n      <td>STEMI - Anterior</td>\n      <td>4535</td>\n      <td>74701</td>\n    </tr>\n    <tr>\n      <th>11</th>\n      <td>ST changes - Nonspecific ST deviation</td>\n      <td>4511</td>\n      <td>74725</td>\n    </tr>\n    <tr>\n      <th>12</th>\n      <td>ST changes - Nonspecific ST deviation with T-w...</td>\n      <td>4495</td>\n      <td>74741</td>\n    </tr>\n    <tr>\n      <th>13</th>\n      <td>Bundle-branch block - RBBB - incomplete</td>\n      <td>3806</td>\n      <td>75430</td>\n    </tr>\n    <tr>\n      <th>14</th>\n      <td>STEMI - Inferior or Inferolateral</td>\n      <td>3415</td>\n      <td>75821</td>\n    </tr>\n    <tr>\n      <th>15</th>\n      <td>Normal variant</td>\n      <td>3118</td>\n      <td>76118</td>\n    </tr>\n    <tr>\n      <th>16</th>\n      <td>Atrial fibrillation</td>\n      <td>3055</td>\n      <td>76181</td>\n    </tr>\n    <tr>\n      <th>17</th>\n      <td>Ventricular premature complex(es) - VPB - VPC</td>\n      <td>3001</td>\n      <td>76235</td>\n    </tr>\n    <tr>\n      <th>18</th>\n      <td>QT Interval - Prolonged</td>\n      <td>2865</td>\n      <td>76371</td>\n    </tr>\n    <tr>\n      <th>19</th>\n      <td>Bundle Branch Block - Right - RBBB</td>\n      <td>2689</td>\n      <td>76547</td>\n    </tr>\n  </tbody>\n</table>\n</div>"
     },
     "metadata": {},
     "execution_count": 3
    }
   ],
   "source": [
    "Final_categories = Top_prevalent_diseases.tail(18)\n",
    "Final_categories"
   ]
  },
  {
   "source": [
    "## Correlogram"
   ],
   "cell_type": "markdown",
   "metadata": {}
  },
  {
   "cell_type": "code",
   "execution_count": null,
   "metadata": {},
   "outputs": [],
   "source": [
    "# Plot\n",
    "plt.figure(figsize=(12,10), dpi= 80)\n",
    "sns.heatmap(Disease_df.corr(), xticklabels=Disease_df.corr().columns, yticklabels=Disease_df.corr().columns, cmap='RdYlGn', center=0, annot=True)\n",
    "\n",
    "# Decorations\n",
    "plt.title('Correlogram of mtcars', fontsize=22)\n",
    "plt.xticks(fontsize=12)\n",
    "plt.yticks(fontsize=12)\n",
    "plt.show()"
   ]
  },
  {
   "cell_type": "code",
   "execution_count": 30,
   "metadata": {},
   "outputs": [
    {
     "output_type": "stream",
     "name": "stdout",
     "text": [
      "Sinus tachycardia\n",
      "Left atrial enlargement\n",
      "ST changes - Nonspecific T-wave abnormality\n",
      "Left ventricular hypertrophy\n",
      "Sinus bradycardia\n",
      "Sinus arrhythmia\n",
      "STEMI - Anteroseptal\n",
      "Left-axis deviation\n",
      "STEMI - Anterior\n",
      "ST changes - Nonspecific ST deviation\n",
      "ST changes - Nonspecific ST deviation with T-wave change\n",
      "Bundle-branch block - RBBB - incomplete\n",
      "STEMI - Inferior or Inferolateral\n",
      "Normal variant\n",
      "Atrial fibrillation\n",
      "Ventricular premature complex(es) - VPB - VPC\n",
      "QT Interval - Prolonged\n",
      "Bundle Branch Block - Right - RBBB\n"
     ]
    }
   ],
   "source": [
    "# Create vectors for each category\n",
    "Records_df = pd.read_csv(\"NO_SPACES.csv\")\n",
    "diseases_num = Final_categories.shape\n",
    "records_num = Records_df.shape\n",
    "diseases_num = diseases_num[0]\n",
    "records_num = records_num[0]\n",
    "summary_matrix = np.zeros((records_num,diseases_num))\n",
    "disease_cntr = 0 \n",
    "for indx, row in Final_categories.T.iteritems():\n",
    "    print(row[\"Disease\"])\n",
    "    for record_indx, record in Records_df.T.iteritems(): \n",
    "        if (record==row[\"Disease\"]).any()==True:\n",
    "            summary_matrix[record_indx,disease_cntr] = 1.0\n",
    "    disease_cntr+=1\n",
    "\n"
   ]
  },
  {
   "cell_type": "code",
   "execution_count": 35,
   "metadata": {},
   "outputs": [],
   "source": [
    "# Calculate cross - correlation matrix \n",
    "cross_correlation_mat= np.zeros((diseases_num,diseases_num))\n",
    "corr_result = Normalized_cross_corr(summary_matrix[:,0],summary_matrix[:,1])"
   ]
  },
  {
   "cell_type": "code",
   "execution_count": null,
   "metadata": {},
   "outputs": [],
   "source": []
  }
 ]
}